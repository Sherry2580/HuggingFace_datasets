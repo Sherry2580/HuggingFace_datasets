{
 "cells": [
  {
   "cell_type": "markdown",
   "metadata": {},
   "source": [
    "# LittleFish-Coder/Fake_News_KDD2020\n",
    "\n",
    "https://huggingface.co/datasets/LittleFish-Coder/Fake_News_KDD2020\n"
   ]
  },
  {
   "cell_type": "code",
   "execution_count": 2,
   "metadata": {},
   "outputs": [
    {
     "name": "stderr",
     "output_type": "stream",
     "text": [
      "/home/blueee/miniconda3/envs/huggingface-api/lib/python3.12/site-packages/tqdm/auto.py:21: TqdmWarning: IProgress not found. Please update jupyter and ipywidgets. See https://ipywidgets.readthedocs.io/en/stable/user_install.html\n",
      "  from .autonotebook import tqdm as notebook_tqdm\n"
     ]
    },
    {
     "name": "stdout",
     "output_type": "stream",
     "text": [
      "DatasetDict({\n",
      "    train: Dataset({\n",
      "        features: ['text', 'label', 'bert_embeddings', 'roberta_embeddings'],\n",
      "        num_rows: 4487\n",
      "    })\n",
      "    test: Dataset({\n",
      "        features: ['text', 'label', 'bert_embeddings', 'roberta_embeddings'],\n",
      "        num_rows: 499\n",
      "    })\n",
      "})\n",
      "train size: 4487\n",
      "test size: 499\n"
     ]
    }
   ],
   "source": [
    "from datasets import DatasetDict, load_dataset\n",
    "\n",
    "# load and download the dataset from huggingface\n",
    "dataset = load_dataset(\"LittleFish-Coder/Fake_News_KDD2020\")\n",
    "\n",
    "print(dataset)\n",
    "print(f'train size: {len(dataset[\"train\"])}')\n",
    "print(f'test size: {len(dataset[\"test\"])}')"
   ]
  },
  {
   "cell_type": "markdown",
   "metadata": {},
   "source": [
    "# Add BERT Embeddings"
   ]
  },
  {
   "cell_type": "code",
   "execution_count": 3,
   "metadata": {},
   "outputs": [],
   "source": [
    "import torch\n",
    "from transformers import AutoTokenizer, AutoModel\n",
    "\n",
    "device = 'cuda' if torch.cuda.is_available() else 'cpu'\n",
    "\n",
    "bert_tokenizer = AutoTokenizer.from_pretrained(\"google-bert/bert-base-uncased\", clean_up_tokenization_spaces=True)\n",
    "bert_model = AutoModel.from_pretrained(\"google-bert/bert-base-uncased\").to(device)"
   ]
  },
  {
   "cell_type": "code",
   "execution_count": 4,
   "metadata": {},
   "outputs": [],
   "source": [
    "import torch\n",
    "import numpy as np\n",
    "\n",
    "def generate_bert_embeddings(text, max_length=512, stride=256):\n",
    "    # Tokenize the text without truncation\n",
    "    tokens = bert_tokenizer(text, return_tensors='pt', truncation=False)\n",
    "    input_ids = tokens['input_ids'][0]\n",
    "    attention_mask = tokens['attention_mask'][0]\n",
    "\n",
    "    chunks = []\n",
    "    attention_chunks = []\n",
    "\n",
    "    for i in range(0, len(input_ids), stride):\n",
    "        chunk_ids = input_ids[i:i + max_length]\n",
    "        chunk_mask = attention_mask[i:i + max_length]\n",
    "\n",
    "        # Stop if the chunk is empty\n",
    "        if len(chunk_ids) == 0:\n",
    "            break\n",
    "\n",
    "        # Padding if chunk is shorter than max_length\n",
    "        padding_len = max_length - len(chunk_ids)\n",
    "        if padding_len > 0:\n",
    "            chunk_ids = torch.cat([chunk_ids, torch.zeros(padding_len, dtype=torch.long)])\n",
    "            chunk_mask = torch.cat([chunk_mask, torch.zeros(padding_len, dtype=torch.long)])\n",
    "\n",
    "        chunks.append(chunk_ids.unsqueeze(0))\n",
    "        attention_chunks.append(chunk_mask.unsqueeze(0))\n",
    "\n",
    "        if i + max_length >= len(input_ids):\n",
    "            break\n",
    "\n",
    "    all_embeddings = []\n",
    "\n",
    "    with torch.no_grad():\n",
    "        for chunk_ids, chunk_mask in zip(chunks, attention_chunks):\n",
    "            inputs = {\n",
    "                \"input_ids\": chunk_ids.to(device),\n",
    "                \"attention_mask\": chunk_mask.to(device)\n",
    "            }\n",
    "            outputs = bert_model(**inputs)\n",
    "            cls_embedding = outputs.last_hidden_state[:, 0, :]  # (1, 768)\n",
    "            all_embeddings.append(cls_embedding.cpu().numpy())\n",
    "\n",
    "    # Average all CLS embeddings\n",
    "    all_embeddings = np.vstack(all_embeddings)\n",
    "    final_embedding = np.mean(all_embeddings, axis=0)  # shape: (768,)\n",
    "\n",
    "    return final_embedding"
   ]
  },
  {
   "cell_type": "code",
   "execution_count": 6,
   "metadata": {},
   "outputs": [
    {
     "name": "stderr",
     "output_type": "stream",
     "text": [
      "Map: 100%|██████████| 4487/4487 [03:22<00:00, 22.11 examples/s]\n",
      "Map: 100%|██████████| 499/499 [00:23<00:00, 20.95 examples/s]\n"
     ]
    }
   ],
   "source": [
    "# Generate BERT embeddings\n",
    "def add_bert_embeddings(batch):\n",
    "    batch['bert_embeddings'] = [generate_bert_embeddings(text) for text in batch['text']]\n",
    "    return batch\n",
    "\n",
    "# Apply the function to all splits\n",
    "dataset = dataset.map(add_bert_embeddings, batched=True)"
   ]
  },
  {
   "cell_type": "markdown",
   "metadata": {},
   "source": [
    "# Reformat the dataset"
   ]
  },
  {
   "cell_type": "code",
   "execution_count": 7,
   "metadata": {},
   "outputs": [],
   "source": [
    "# remove the redundant text column: ['roberta_embeddings']\n",
    "dataset = dataset.remove_columns(['roberta_embeddings'])"
   ]
  },
  {
   "cell_type": "markdown",
   "metadata": {},
   "source": [
    "# Upload to HuggingFace Hub"
   ]
  },
  {
   "cell_type": "code",
   "execution_count": 8,
   "metadata": {},
   "outputs": [
    {
     "name": "stderr",
     "output_type": "stream",
     "text": [
      "Creating parquet from Arrow format: 100%|██████████| 5/5 [00:00<00:00,  9.94ba/s]\n",
      "Uploading the dataset shards: 100%|██████████| 1/1 [00:07<00:00,  7.26s/it]\n",
      "Creating parquet from Arrow format: 100%|██████████| 1/1 [00:00<00:00,  9.59ba/s]\n",
      "Uploading the dataset shards: 100%|██████████| 1/1 [00:02<00:00,  2.36s/it]\n"
     ]
    },
    {
     "data": {
      "text/plain": [
       "CommitInfo(commit_url='https://huggingface.co/datasets/Blueeeeee/FND_KDD2020_Embeddings/commit/1a6fda7c7068279820b4f2e3a531f1ae4fec57e2', commit_message='Upload dataset', commit_description='', oid='1a6fda7c7068279820b4f2e3a531f1ae4fec57e2', pr_url=None, pr_revision=None, pr_num=None)"
      ]
     },
     "execution_count": 8,
     "metadata": {},
     "output_type": "execute_result"
    }
   ],
   "source": [
    "# push the dataset to the hub \n",
    "dataset.push_to_hub('Blueeeeee/FND_KDD2020_Embeddings')"
   ]
  }
 ],
 "metadata": {
  "kernelspec": {
   "display_name": "huggingface-api",
   "language": "python",
   "name": "python3"
  },
  "language_info": {
   "codemirror_mode": {
    "name": "ipython",
    "version": 3
   },
   "file_extension": ".py",
   "mimetype": "text/x-python",
   "name": "python",
   "nbconvert_exporter": "python",
   "pygments_lexer": "ipython3",
   "version": "3.12.5"
  }
 },
 "nbformat": 4,
 "nbformat_minor": 2
}
