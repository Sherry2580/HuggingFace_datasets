{
 "cells": [
  {
   "cell_type": "markdown",
   "metadata": {},
   "source": [
    "# UKPLab/liar\n",
    "\n",
    "https://huggingface.co/datasets/UKPLab/liar\n"
   ]
  },
  {
   "cell_type": "code",
   "execution_count": 1,
   "metadata": {},
   "outputs": [
    {
     "name": "stderr",
     "output_type": "stream",
     "text": [
      "/home/blueee/miniconda3/envs/huggingface-api/lib/python3.12/site-packages/tqdm/auto.py:21: TqdmWarning: IProgress not found. Please update jupyter and ipywidgets. See https://ipywidgets.readthedocs.io/en/stable/user_install.html\n",
      "  from .autonotebook import tqdm as notebook_tqdm\n",
      "Repo card metadata block was not found. Setting CardData to empty.\n",
      "Generating train split: 100%|██████████| 10269/10269 [00:00<00:00, 34775.67 examples/s]\n",
      "Generating validation split: 100%|██████████| 1284/1284 [00:00<00:00, 184346.08 examples/s]\n",
      "Generating test split: 100%|██████████| 1283/1283 [00:00<00:00, 195925.58 examples/s]"
     ]
    },
    {
     "name": "stdout",
     "output_type": "stream",
     "text": [
      "DatasetDict({\n",
      "    train: Dataset({\n",
      "        features: ['text', 'label_text', 'labels', 'context'],\n",
      "        num_rows: 10269\n",
      "    })\n",
      "    validation: Dataset({\n",
      "        features: ['text', 'label_text', 'labels', 'context'],\n",
      "        num_rows: 1284\n",
      "    })\n",
      "    test: Dataset({\n",
      "        features: ['text', 'label_text', 'labels', 'context'],\n",
      "        num_rows: 1283\n",
      "    })\n",
      "})\n",
      "train size: 10269\n",
      "validation size: 1284\n",
      "test size: 1283\n"
     ]
    },
    {
     "name": "stderr",
     "output_type": "stream",
     "text": [
      "\n"
     ]
    }
   ],
   "source": [
    "from datasets import DatasetDict, load_dataset\n",
    "\n",
    "# load and download the dataset from huggingface\n",
    "dataset = load_dataset(\"UKPLab/liar\")\n",
    "\n",
    "print(dataset)\n",
    "print(f'train size: {len(dataset[\"train\"])}')\n",
    "print(f'validation size: {len(dataset[\"validation\"])}')\n",
    "print(f'test size: {len(dataset[\"test\"])}')"
   ]
  },
  {
   "cell_type": "markdown",
   "metadata": {},
   "source": [
    "# Add BERT Embeddings"
   ]
  },
  {
   "cell_type": "code",
   "execution_count": 2,
   "metadata": {},
   "outputs": [],
   "source": [
    "import torch\n",
    "from transformers import AutoTokenizer, AutoModel\n",
    "\n",
    "device = 'cuda' if torch.cuda.is_available() else 'cpu'\n",
    "\n",
    "bert_tokenizer = AutoTokenizer.from_pretrained(\"google-bert/bert-base-uncased\", clean_up_tokenization_spaces=True)\n",
    "bert_model = AutoModel.from_pretrained(\"google-bert/bert-base-uncased\").to(device)"
   ]
  },
  {
   "cell_type": "code",
   "execution_count": 3,
   "metadata": {},
   "outputs": [],
   "source": [
    "import torch\n",
    "import numpy as np\n",
    "\n",
    "def generate_bert_embeddings(text, max_length=512, stride=256):\n",
    "    # Tokenize the text without truncation\n",
    "    tokens = bert_tokenizer(text, return_tensors='pt', truncation=False)\n",
    "    input_ids = tokens['input_ids'][0]\n",
    "    attention_mask = tokens['attention_mask'][0]\n",
    "\n",
    "    chunks = []\n",
    "    attention_chunks = []\n",
    "\n",
    "    for i in range(0, len(input_ids), stride):\n",
    "        chunk_ids = input_ids[i:i + max_length]\n",
    "        chunk_mask = attention_mask[i:i + max_length]\n",
    "\n",
    "        # Stop if the chunk is empty\n",
    "        if len(chunk_ids) == 0:\n",
    "            break\n",
    "\n",
    "        # Padding if chunk is shorter than max_length\n",
    "        padding_len = max_length - len(chunk_ids)\n",
    "        if padding_len > 0:\n",
    "            chunk_ids = torch.cat([chunk_ids, torch.zeros(padding_len, dtype=torch.long)])\n",
    "            chunk_mask = torch.cat([chunk_mask, torch.zeros(padding_len, dtype=torch.long)])\n",
    "\n",
    "        chunks.append(chunk_ids.unsqueeze(0))\n",
    "        attention_chunks.append(chunk_mask.unsqueeze(0))\n",
    "\n",
    "        if i + max_length >= len(input_ids):\n",
    "            break\n",
    "\n",
    "    all_embeddings = []\n",
    "\n",
    "    with torch.no_grad():\n",
    "        for chunk_ids, chunk_mask in zip(chunks, attention_chunks):\n",
    "            inputs = {\n",
    "                \"input_ids\": chunk_ids.to(device),\n",
    "                \"attention_mask\": chunk_mask.to(device)\n",
    "            }\n",
    "            outputs = bert_model(**inputs)\n",
    "            cls_embedding = outputs.last_hidden_state[:, 0, :]  # (1, 768)\n",
    "            all_embeddings.append(cls_embedding.cpu().numpy())\n",
    "\n",
    "    # Average all CLS embeddings\n",
    "    all_embeddings = np.vstack(all_embeddings)\n",
    "    final_embedding = np.mean(all_embeddings, axis=0)  # shape: (768,)\n",
    "\n",
    "    return final_embedding"
   ]
  },
  {
   "cell_type": "code",
   "execution_count": 4,
   "metadata": {},
   "outputs": [
    {
     "name": "stderr",
     "output_type": "stream",
     "text": [
      "Map: 100%|██████████| 10269/10269 [02:15<00:00, 75.79 examples/s]\n",
      "Map: 100%|██████████| 1284/1284 [00:16<00:00, 77.68 examples/s]\n",
      "Map: 100%|██████████| 1283/1283 [00:16<00:00, 77.82 examples/s]\n"
     ]
    }
   ],
   "source": [
    "# Generate BERT embeddings\n",
    "def add_bert_embeddings(batch):\n",
    "    batch['bert_embeddings'] = [generate_bert_embeddings(text) for text in batch['text']]\n",
    "    return batch\n",
    "\n",
    "# Apply the function to all splits\n",
    "dataset = dataset.map(add_bert_embeddings, batched=True)"
   ]
  },
  {
   "cell_type": "markdown",
   "metadata": {},
   "source": [
    "# Reformat the dataset"
   ]
  },
  {
   "cell_type": "code",
   "execution_count": 5,
   "metadata": {},
   "outputs": [],
   "source": [
    "# remove the redundant text column: ['label_text', 'context']\n",
    "dataset = dataset.remove_columns(['label_text', 'context'])\n",
    "\n",
    "# rename the columns: ['labels'] -> ['label']\n",
    "dataset = dataset.rename_column('labels', 'label')"
   ]
  },
  {
   "cell_type": "markdown",
   "metadata": {},
   "source": [
    "# Upload to HuggingFace Hub"
   ]
  },
  {
   "cell_type": "code",
   "execution_count": 6,
   "metadata": {},
   "outputs": [
    {
     "name": "stderr",
     "output_type": "stream",
     "text": [
      "Creating parquet from Arrow format: 100%|██████████| 11/11 [00:00<00:00, 15.76ba/s]\n",
      "Uploading the dataset shards: 100%|██████████| 1/1 [00:06<00:00,  6.14s/it]\n",
      "Creating parquet from Arrow format: 100%|██████████| 2/2 [00:00<00:00, 14.10ba/s]\n",
      "Uploading the dataset shards: 100%|██████████| 1/1 [00:02<00:00,  2.73s/it]\n",
      "Creating parquet from Arrow format: 100%|██████████| 2/2 [00:00<00:00, 13.00ba/s]\n",
      "Uploading the dataset shards: 100%|██████████| 1/1 [00:01<00:00,  1.22s/it]\n"
     ]
    },
    {
     "data": {
      "text/plain": [
       "CommitInfo(commit_url='https://huggingface.co/datasets/Blueeeeee/Liar_Embeddings/commit/4b83c1539257c61e9a0b0630311da6ce372fab3f', commit_message='Upload dataset', commit_description='', oid='4b83c1539257c61e9a0b0630311da6ce372fab3f', pr_url=None, pr_revision=None, pr_num=None)"
      ]
     },
     "execution_count": 6,
     "metadata": {},
     "output_type": "execute_result"
    }
   ],
   "source": [
    "# push the dataset to the hub \n",
    "dataset.push_to_hub('Blueeeeee/Liar_Embeddings')"
   ]
  }
 ],
 "metadata": {
  "kernelspec": {
   "display_name": "huggingface-api",
   "language": "python",
   "name": "python3"
  },
  "language_info": {
   "codemirror_mode": {
    "name": "ipython",
    "version": 3
   },
   "file_extension": ".py",
   "mimetype": "text/x-python",
   "name": "python",
   "nbconvert_exporter": "python",
   "pygments_lexer": "ipython3",
   "version": "3.12.5"
  }
 },
 "nbformat": 4,
 "nbformat_minor": 2
}
