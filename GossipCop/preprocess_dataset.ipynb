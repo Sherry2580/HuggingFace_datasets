{
 "cells": [
  {
   "cell_type": "markdown",
   "metadata": {},
   "source": [
    "# Ahren09/MMSoc_GossipCop\n",
    "\n",
    "https://huggingface.co/datasets/Ahren09/MMSoc_GossipCop\n"
   ]
  },
  {
   "cell_type": "code",
   "execution_count": 1,
   "metadata": {},
   "outputs": [
    {
     "name": "stderr",
     "output_type": "stream",
     "text": [
      "/home/blueee/miniconda3/envs/huggingface-api/lib/python3.12/site-packages/tqdm/auto.py:21: TqdmWarning: IProgress not found. Please update jupyter and ipywidgets. See https://ipywidgets.readthedocs.io/en/stable/user_install.html\n",
      "  from .autonotebook import tqdm as notebook_tqdm\n"
     ]
    },
    {
     "name": "stdout",
     "output_type": "stream",
     "text": [
      "DatasetDict({\n",
      "    train: Dataset({\n",
      "        features: ['image', 'text', 'label', 'split'],\n",
      "        num_rows: 9988\n",
      "    })\n",
      "    test: Dataset({\n",
      "        features: ['image', 'text', 'label', 'split'],\n",
      "        num_rows: 2672\n",
      "    })\n",
      "})\n",
      "train size: 9988\n",
      "test size: 2672\n"
     ]
    }
   ],
   "source": [
    "from datasets import DatasetDict, load_dataset\n",
    "\n",
    "# load and download the dataset from huggingface\n",
    "dataset = load_dataset(\"Ahren09/MMSoc_GossipCop\")\n",
    "\n",
    "print(dataset)\n",
    "print(f'train size: {len(dataset[\"train\"])}')\n",
    "print(f'test size: {len(dataset[\"test\"])}')"
   ]
  },
  {
   "cell_type": "markdown",
   "metadata": {},
   "source": [
    "# Add BERT Embeddings"
   ]
  },
  {
   "cell_type": "code",
   "execution_count": null,
   "metadata": {},
   "outputs": [],
   "source": [
    "import torch\n",
    "from transformers import AutoTokenizer, AutoModel\n",
    "\n",
    "device = 'cuda' if torch.cuda.is_available() else 'cpu'\n",
    "\n",
    "bert_tokenizer = AutoTokenizer.from_pretrained(\"google-bert/bert-base-uncased\", clean_up_tokenization_spaces=True)\n",
    "bert_model = AutoModel.from_pretrained(\"google-bert/bert-base-uncased\").to(device)"
   ]
  },
  {
   "cell_type": "code",
   "execution_count": 4,
   "metadata": {},
   "outputs": [],
   "source": [
    "import torch\n",
    "import numpy as np\n",
    "\n",
    "def generate_bert_embeddings(text, max_length=512, stride=256):\n",
    "    # Tokenize the text without truncation\n",
    "    tokens = bert_tokenizer(text, return_tensors='pt', truncation=False)\n",
    "    input_ids = tokens['input_ids'][0]\n",
    "    attention_mask = tokens['attention_mask'][0]\n",
    "\n",
    "    chunks = []\n",
    "    attention_chunks = []\n",
    "\n",
    "    for i in range(0, len(input_ids), stride):\n",
    "        chunk_ids = input_ids[i:i + max_length]\n",
    "        chunk_mask = attention_mask[i:i + max_length]\n",
    "\n",
    "        # Stop if the chunk is empty\n",
    "        if len(chunk_ids) == 0:\n",
    "            break\n",
    "\n",
    "        # Padding if chunk is shorter than max_length\n",
    "        padding_len = max_length - len(chunk_ids)\n",
    "        if padding_len > 0:\n",
    "            chunk_ids = torch.cat([chunk_ids, torch.zeros(padding_len, dtype=torch.long)])\n",
    "            chunk_mask = torch.cat([chunk_mask, torch.zeros(padding_len, dtype=torch.long)])\n",
    "\n",
    "        chunks.append(chunk_ids.unsqueeze(0))\n",
    "        attention_chunks.append(chunk_mask.unsqueeze(0))\n",
    "\n",
    "        if i + max_length >= len(input_ids):\n",
    "            break\n",
    "\n",
    "    all_embeddings = []\n",
    "\n",
    "    with torch.no_grad():\n",
    "        for chunk_ids, chunk_mask in zip(chunks, attention_chunks):\n",
    "            inputs = {\n",
    "                \"input_ids\": chunk_ids.to(device),\n",
    "                \"attention_mask\": chunk_mask.to(device)\n",
    "            }\n",
    "            outputs = bert_model(**inputs)\n",
    "            cls_embedding = outputs.last_hidden_state[:, 0, :]  # (1, 768)\n",
    "            all_embeddings.append(cls_embedding.cpu().numpy())\n",
    "\n",
    "    # Average all CLS embeddings\n",
    "    all_embeddings = np.vstack(all_embeddings)\n",
    "    final_embedding = np.mean(all_embeddings, axis=0)  # shape: (768,)\n",
    "\n",
    "    return final_embedding"
   ]
  },
  {
   "cell_type": "code",
   "execution_count": 5,
   "metadata": {},
   "outputs": [
    {
     "name": "stderr",
     "output_type": "stream",
     "text": [
      "Map:   0%|          | 0/9988 [00:00<?, ? examples/s]Token indices sequence length is longer than the specified maximum sequence length for this model (666 > 512). Running this sequence through the model will result in indexing errors\n",
      "Map: 100%|██████████| 9988/9988 [06:24<00:00, 25.97 examples/s]\n",
      "Map: 100%|██████████| 2672/2672 [01:38<00:00, 27.24 examples/s]\n"
     ]
    }
   ],
   "source": [
    "# Generate BERT embeddings\n",
    "def add_bert_embeddings(batch):\n",
    "    batch['bert_embeddings'] = [generate_bert_embeddings(text) for text in batch['text']]\n",
    "    return batch\n",
    "\n",
    "# Apply the function to all splits\n",
    "dataset = dataset.map(add_bert_embeddings, batched=True)"
   ]
  },
  {
   "cell_type": "markdown",
   "metadata": {},
   "source": [
    "# Add RoBERTa Embeddings"
   ]
  },
  {
   "cell_type": "code",
   "execution_count": null,
   "metadata": {},
   "outputs": [
    {
     "name": "stderr",
     "output_type": "stream",
     "text": [
      "Some weights of RobertaModel were not initialized from the model checkpoint at roberta-base and are newly initialized: ['roberta.pooler.dense.bias', 'roberta.pooler.dense.weight']\n",
      "You should probably TRAIN this model on a down-stream task to be able to use it for predictions and inference.\n"
     ]
    }
   ],
   "source": [
    "import torch\n",
    "from transformers import AutoTokenizer, AutoModel\n",
    "\n",
    "device = 'cuda' if torch.cuda.is_available() else 'cpu'\n",
    "\n",
    "roberta_tokenizer = AutoTokenizer.from_pretrained(\"roberta-base\", clean_up_tokenization_spaces=True)\n",
    "roberta_model = AutoModel.from_pretrained(\"roberta-base\").to(device)"
   ]
  },
  {
   "cell_type": "code",
   "execution_count": 8,
   "metadata": {},
   "outputs": [],
   "source": [
    "# Sliding Window 產生 RoBERTa embeddings\n",
    "def generate_roberta_embeddings(text, max_length=512, stride=256):\n",
    "    # 先把文字轉成 token ids（不截斷）\n",
    "    input_ids = roberta_tokenizer.encode(text, add_special_tokens=True)\n",
    "    \n",
    "    all_embeddings = []\n",
    "\n",
    "    for i in range(0, len(input_ids), stride):\n",
    "        chunk = input_ids[i:i+max_length]\n",
    "        if len(chunk) == 0:\n",
    "            break\n",
    "\n",
    "        # 自動加上 attention mask & padding\n",
    "        inputs = roberta_tokenizer.prepare_for_model(\n",
    "            chunk,\n",
    "            max_length=max_length,\n",
    "            padding='max_length',\n",
    "            truncation=True,\n",
    "            return_tensors='pt'\n",
    "        )\n",
    "\n",
    "        # 加上 batch 維度\n",
    "        for key in inputs:\n",
    "            inputs[key] = inputs[key].unsqueeze(0)\n",
    "\n",
    "        # 把資料移到 GPU 或 CPU\n",
    "        inputs = {k: v.to(device) for k, v in inputs.items()}\n",
    "\n",
    "        with torch.no_grad():\n",
    "            outputs = roberta_model(**inputs)\n",
    "            cls_embedding = outputs.last_hidden_state[:, 0, :]  # 取 [CLS] 的表示\n",
    "            all_embeddings.append(cls_embedding.cpu().numpy())\n",
    "\n",
    "        if i + max_length >= len(input_ids):\n",
    "            break\n",
    "\n",
    "    # 將所有 [CLS] 向量平均，當作整篇文章的向量\n",
    "    final_embedding = np.mean(np.vstack(all_embeddings), axis=0)  # shape: (768,)\n",
    "    return final_embedding"
   ]
  },
  {
   "cell_type": "code",
   "execution_count": 9,
   "metadata": {},
   "outputs": [
    {
     "name": "stderr",
     "output_type": "stream",
     "text": [
      "Map:   0%|          | 0/9988 [00:00<?, ? examples/s]Token indices sequence length is longer than the specified maximum sequence length for this model (723 > 512). Running this sequence through the model will result in indexing errors\n",
      "You're using a RobertaTokenizerFast tokenizer. Please note that with a fast tokenizer, using the `__call__` method is faster than using a method to encode the text followed by a call to the `pad` method to get a padded encoding.\n",
      "Map: 100%|██████████| 9988/9988 [07:29<00:00, 22.23 examples/s]\n",
      "Map: 100%|██████████| 2672/2672 [01:53<00:00, 23.61 examples/s]\n"
     ]
    }
   ],
   "source": [
    "# Generate RoBERTa embeddings\n",
    "def add_roberta_embeddings(batch):\n",
    "    batch['roberta_embeddings'] = [generate_roberta_embeddings(text) for text in batch['text']]\n",
    "    return batch\n",
    "\n",
    "# Apply the function to all splits\n",
    "dataset = dataset.map(add_roberta_embeddings, batched=True)"
   ]
  },
  {
   "cell_type": "markdown",
   "metadata": {},
   "source": [
    "# Reformat the dataset"
   ]
  },
  {
   "cell_type": "code",
   "execution_count": 10,
   "metadata": {},
   "outputs": [],
   "source": [
    "# remove the redundant text column: ['image', 'split']\n",
    "dataset = dataset.remove_columns(['image', 'split'])"
   ]
  },
  {
   "cell_type": "markdown",
   "metadata": {},
   "source": [
    "# Upload to HuggingFace Hub"
   ]
  },
  {
   "cell_type": "code",
   "execution_count": 11,
   "metadata": {},
   "outputs": [
    {
     "name": "stderr",
     "output_type": "stream",
     "text": [
      "Creating parquet from Arrow format: 100%|██████████| 10/10 [00:01<00:00,  6.23ba/s]\n",
      "Uploading the dataset shards: 100%|██████████| 1/1 [00:12<00:00, 12.00s/it]\n",
      "Creating parquet from Arrow format: 100%|██████████| 3/3 [00:00<00:00,  5.99ba/s]\n",
      "Uploading the dataset shards: 100%|██████████| 1/1 [00:05<00:00,  5.08s/it]\n"
     ]
    },
    {
     "data": {
      "text/plain": [
       "CommitInfo(commit_url='https://huggingface.co/datasets/Blueeeeee/GossipCop_Embeddings/commit/ddb94fcde079436b38c4f1bba69c20baab4e8c71', commit_message='Upload dataset', commit_description='', oid='ddb94fcde079436b38c4f1bba69c20baab4e8c71', pr_url=None, pr_revision=None, pr_num=None)"
      ]
     },
     "execution_count": 11,
     "metadata": {},
     "output_type": "execute_result"
    }
   ],
   "source": [
    "# push the dataset to the hub \n",
    "dataset.push_to_hub('Blueeeeee/GossipCop_Embeddings')"
   ]
  }
 ],
 "metadata": {
  "kernelspec": {
   "display_name": "huggingface-api",
   "language": "python",
   "name": "python3"
  },
  "language_info": {
   "codemirror_mode": {
    "name": "ipython",
    "version": 3
   },
   "file_extension": ".py",
   "mimetype": "text/x-python",
   "name": "python",
   "nbconvert_exporter": "python",
   "pygments_lexer": "ipython3",
   "version": "3.12.5"
  }
 },
 "nbformat": 4,
 "nbformat_minor": 2
}
